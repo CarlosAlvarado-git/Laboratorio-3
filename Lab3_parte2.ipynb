{
 "cells": [
  {
   "cell_type": "code",
   "execution_count": 1,
   "id": "127d4703",
   "metadata": {},
   "outputs": [
    {
     "name": "stdout",
     "output_type": "stream",
     "text": [
      "Collecting package metadata (current_repodata.json): done\n",
      "Solving environment: failed with initial frozen solve. Retrying with flexible solve.\n",
      "Collecting package metadata (repodata.json): done\n",
      "Solving environment: failed with initial frozen solve. Retrying with flexible solve.\n",
      "\n",
      "PackagesNotFoundError: The following packages are not available from current channels:\n",
      "\n",
      "  - sqlite3\n",
      "\n",
      "Current channels:\n",
      "\n",
      "  - https://repo.anaconda.com/pkgs/main/osx-64\n",
      "  - https://repo.anaconda.com/pkgs/main/noarch\n",
      "  - https://repo.anaconda.com/pkgs/r/osx-64\n",
      "  - https://repo.anaconda.com/pkgs/r/noarch\n",
      "\n",
      "To search for alternate channels that may provide the conda package you're\n",
      "looking for, navigate to\n",
      "\n",
      "    https://anaconda.org\n",
      "\n",
      "and use the search bar at the top of the page.\n",
      "\n",
      "\n",
      "\n",
      "Note: you may need to restart the kernel to use updated packages.\n"
     ]
    }
   ],
   "source": [
    "%conda install sqlite3"
   ]
  },
  {
   "cell_type": "code",
   "execution_count": 3,
   "id": "414219c9",
   "metadata": {},
   "outputs": [],
   "source": [
    "import sqlite3\n",
    "import pandas as pd\n",
    "con = sqlite3.connect('sql-murder-mystery.db')"
   ]
  },
  {
   "cell_type": "code",
   "execution_count": 44,
   "id": "3d606c49",
   "metadata": {},
   "outputs": [
    {
     "name": "stdout",
     "output_type": "stream",
     "text": [
      "('crime_scene_report',)\n",
      "('drivers_license',)\n",
      "('person',)\n",
      "('facebook_event_checkin',)\n",
      "('interview',)\n",
      "('get_fit_now_member',)\n",
      "('get_fit_now_check_in',)\n",
      "('income',)\n",
      "('solution',)\n"
     ]
    }
   ],
   "source": [
    "#link info: https://www.sqlitetutorial.net/sqlite-show-tables/\n",
    "cursor = con.cursor()\n",
    "cursor.execute(\"SELECT name FROM sqlite_master WHERE type='table';\")\n",
    "myresult = cursor.fetchall()\n",
    "for x in myresult:\n",
    "    print(x)"
   ]
  },
  {
   "cell_type": "code",
   "execution_count": 42,
   "id": "7de2fadc",
   "metadata": {},
   "outputs": [
    {
     "name": "stdout",
     "output_type": "stream",
     "text": [
      "('CREATE TABLE crime_scene_report (\\n        date integer,\\n        type text,\\n        description text,\\n        city text\\n    )',)\n",
      "\n",
      "\n"
     ]
    }
   ],
   "source": [
    "cursor.execute(\"SELECT sql FROM sqlite_schema WHERE name = 'crime_scene_report';\")\n",
    "print(cursor.fetchall())"
   ]
  },
  {
   "cell_type": "code",
   "execution_count": 41,
   "id": "c51740c5",
   "metadata": {
    "scrolled": true
   },
   "outputs": [
    {
     "name": "stdout",
     "output_type": "stream",
     "text": [
      "(20180115, 'assault', 'Hamilton: Lee, do you yield? Burr: You shot him in the side! Yes he yields!', 'SQL City')\n",
      "\n",
      "\n",
      "(20180115, 'assault', 'Report Not Found', 'SQL City')\n",
      "\n",
      "\n",
      "(20180115, 'murder', 'Security footage shows that there were 2 witnesses. The first witness lives at the last house on \"Northwestern Dr\". The second witness, named Annabel, lives somewhere on \"Franklin Ave\".', 'SQL City')\n",
      "\n",
      "\n"
     ]
    }
   ],
   "source": [
    "cursor.execute(\"SELECT * FROM crime_scene_report where city = 'SQL City' and date = 20180115;\")\n",
    "myresult = cursor.fetchall()\n",
    "for x in myresult:\n",
    "    print(x)\n",
    "    print(\"\\n\")"
   ]
  },
  {
   "cell_type": "markdown",
   "id": "30af5459",
   "metadata": {},
   "source": [
    "# Buscar testigos: (20180115, 'murder', 'Security footage shows that there were 2 witnesses. The first witness lives at the last house on \"Northwestern Dr\". The second witness, named Annabel, lives somewhere on \"Franklin Ave\".', 'SQL City')"
   ]
  },
  {
   "cell_type": "code",
   "execution_count": 48,
   "id": "752fa51b",
   "metadata": {},
   "outputs": [
    {
     "name": "stdout",
     "output_type": "stream",
     "text": [
      "('CREATE TABLE person (\\n        id integer PRIMARY KEY,\\n        name text,\\n        license_id integer,\\n        address_number integer,\\n        address_street_name text,\\n        ssn integer,\\n        FOREIGN KEY (license_id) REFERENCES drivers_license(id)\\n    )',)\n",
      "\n",
      "\n"
     ]
    }
   ],
   "source": [
    "cursor.execute(\"SELECT sql FROM sqlite_schema WHERE name = 'person';\")\n",
    "myresult = cursor.fetchall()\n",
    "for x in myresult:\n",
    "    print(x)\n",
    "    print(\"\\n\")"
   ]
  },
  {
   "cell_type": "code",
   "execution_count": 54,
   "id": "b311708b",
   "metadata": {},
   "outputs": [
    {
     "name": "stdout",
     "output_type": "stream",
     "text": [
      "(14887, 'Morty Schapiro', 118009, 4919, 'Northwestern Dr', 111564949)\n",
      "Primer testigo\n"
     ]
    }
   ],
   "source": [
    "cursor.execute(\"SELECT * FROM person where address_street_name = 'Northwestern Dr' order by address_number DESC limit 1;\")\n",
    "myresult = cursor.fetchall()\n",
    "for x in myresult:\n",
    "    print(x)\n",
    "    print(\"Primer testigo\")"
   ]
  },
  {
   "cell_type": "code",
   "execution_count": 57,
   "id": "7ecdfd13",
   "metadata": {},
   "outputs": [
    {
     "name": "stdout",
     "output_type": "stream",
     "text": [
      "(16371, 'Annabel Miller', 490173, 103, 'Franklin Ave', 318771143)\n",
      "Segundo testigo\n"
     ]
    }
   ],
   "source": [
    "cursor.execute(\"SELECT * FROM person where address_street_name = 'Franklin Ave' and name like '%Annabel%';\")\n",
    "myresult = cursor.fetchall()\n",
    "for x in myresult:\n",
    "    print(x)\n",
    "    print(\"Segundo testigo\")"
   ]
  },
  {
   "cell_type": "markdown",
   "id": "13d4bd6b",
   "metadata": {},
   "source": [
    "# Buscar testimonios"
   ]
  },
  {
   "cell_type": "code",
   "execution_count": 59,
   "id": "8de3aa65",
   "metadata": {},
   "outputs": [
    {
     "name": "stdout",
     "output_type": "stream",
     "text": [
      "('CREATE TABLE interview (\\n        person_id integer,\\n        transcript text,\\n        FOREIGN KEY (person_id) REFERENCES person(id)\\n    )',)\n",
      "\n",
      "\n"
     ]
    }
   ],
   "source": [
    "cursor.execute(\"SELECT sql FROM sqlite_schema WHERE name = 'interview';\")\n",
    "myresult = cursor.fetchall()\n",
    "for x in myresult:\n",
    "    print(x)\n",
    "    print(\"\\n\")"
   ]
  },
  {
   "cell_type": "code",
   "execution_count": 61,
   "id": "2e2588b1",
   "metadata": {},
   "outputs": [
    {
     "name": "stdout",
     "output_type": "stream",
     "text": [
      "(14887, 'I heard a gunshot and then saw a man run out. He had a \"Get Fit Now Gym\" bag. The membership number on the bag started with \"48Z\". Only gold members have those bags. The man got into a car with a plate that included \"H42W\".')\n",
      "Testimonio del primer testigo\n"
     ]
    }
   ],
   "source": [
    "cursor.execute(\"SELECT * FROM interview where person_id = 14887;\")\n",
    "myresult = cursor.fetchall()\n",
    "for x in myresult:\n",
    "    print(x)\n",
    "    print(\"Testimonio del primer testigo\")"
   ]
  },
  {
   "cell_type": "code",
   "execution_count": 62,
   "id": "525c7ef5",
   "metadata": {
    "scrolled": true
   },
   "outputs": [
    {
     "name": "stdout",
     "output_type": "stream",
     "text": [
      "(16371, 'I saw the murder happen, and I recognized the killer from my gym when I was working out last week on January the 9th.')\n",
      "Testimonio del segundo testigo\n"
     ]
    }
   ],
   "source": [
    "cursor.execute(\"SELECT * FROM interview where person_id = 16371;\")\n",
    "myresult = cursor.fetchall()\n",
    "for x in myresult:\n",
    "    print(x)\n",
    "    print(\"Testimonio del segundo testigo\")"
   ]
  },
  {
   "cell_type": "markdown",
   "id": "5b18a51b",
   "metadata": {},
   "source": [
    "# Buscar sospechoso del gym, membresia 48Z y es gold."
   ]
  },
  {
   "cell_type": "code",
   "execution_count": 63,
   "id": "5773dcda",
   "metadata": {},
   "outputs": [
    {
     "name": "stdout",
     "output_type": "stream",
     "text": [
      "('crime_scene_report',)\n",
      "('drivers_license',)\n",
      "('person',)\n",
      "('facebook_event_checkin',)\n",
      "('interview',)\n",
      "('get_fit_now_member',)\n",
      "('get_fit_now_check_in',)\n",
      "('income',)\n",
      "('solution',)\n"
     ]
    }
   ],
   "source": [
    "cursor.execute(\"SELECT name FROM sqlite_master WHERE type='table';\")\n",
    "myresult = cursor.fetchall()\n",
    "for x in myresult:\n",
    "    print(x)"
   ]
  },
  {
   "cell_type": "code",
   "execution_count": 67,
   "id": "427c248d",
   "metadata": {},
   "outputs": [
    {
     "name": "stdout",
     "output_type": "stream",
     "text": [
      "[('CREATE TABLE get_fit_now_member (\\n        id text PRIMARY KEY,\\n        person_id integer,\\n        name text,\\n        membership_start_date integer,\\n        membership_status text,\\n        FOREIGN KEY (person_id) REFERENCES person(id)\\n    )',)]\n"
     ]
    }
   ],
   "source": [
    "cursor.execute(\"SELECT sql FROM sqlite_schema WHERE name = 'get_fit_now_member';\")\n",
    "print(cursor.fetchall())"
   ]
  },
  {
   "cell_type": "code",
   "execution_count": 83,
   "id": "14fbac2a",
   "metadata": {},
   "outputs": [
    {
     "name": "stdout",
     "output_type": "stream",
     "text": [
      "('48Z7A', 28819, 'Joe Germuska', 20160305, 'gold')\n",
      "('48Z55', 67318, 'Jeremy Bowers', 20160101, 'gold')\n"
     ]
    }
   ],
   "source": [
    "cursor.execute(\"SELECT * FROM get_fit_now_member where id like '48Z%' and membership_status = 'gold';\")\n",
    "myresult = cursor.fetchall()\n",
    "for x in myresult:\n",
    "    print(x)"
   ]
  },
  {
   "cell_type": "markdown",
   "id": "239f8739",
   "metadata": {},
   "source": [
    "# Buscar licencia que incluya H42W"
   ]
  },
  {
   "cell_type": "code",
   "execution_count": 84,
   "id": "d7ef0392",
   "metadata": {
    "scrolled": true
   },
   "outputs": [
    {
     "name": "stdout",
     "output_type": "stream",
     "text": [
      "[('CREATE TABLE drivers_license (\\n        id integer PRIMARY KEY,\\n        age integer,\\n        height integer,\\n        eye_color text,\\n        hair_color text,\\n        gender text,\\n        plate_number text,\\n        car_make text,\\n        car_model text\\n    )',)]\n"
     ]
    }
   ],
   "source": [
    "cursor.execute(\"SELECT sql FROM sqlite_schema WHERE name = 'drivers_license';\")\n",
    "print(cursor.fetchall())"
   ]
  },
  {
   "cell_type": "code",
   "execution_count": 115,
   "id": "e1c5d7d1",
   "metadata": {},
   "outputs": [
    {
     "name": "stdout",
     "output_type": "stream",
     "text": [
      "(183779, 21, 65, 'blue', 'blonde', 'female', 'H42W0X', 'Toyota', 'Prius')\n",
      "(423327, 30, 70, 'brown', 'brown', 'male', '0H42W2', 'Chevrolet', 'Spark LS')\n",
      "(664760, 21, 71, 'black', 'black', 'male', '4H42WR', 'Nissan', 'Altima')\n"
     ]
    }
   ],
   "source": [
    "cursor.execute(\"SELECT * FROM drivers_license where plate_number like '%H42W%' and gender = 'male';\")\n",
    "myresult = cursor.fetchall()\n",
    "for x in myresult:\n",
    "    print(x)"
   ]
  },
  {
   "cell_type": "markdown",
   "id": "5e048480",
   "metadata": {},
   "source": [
    "# Join con personas y licencia"
   ]
  },
  {
   "cell_type": "code",
   "execution_count": 87,
   "id": "17aad6ce",
   "metadata": {},
   "outputs": [
    {
     "name": "stdout",
     "output_type": "stream",
     "text": [
      "('crime_scene_report',)\n",
      "('drivers_license',)\n",
      "('person',)\n",
      "('facebook_event_checkin',)\n",
      "('interview',)\n",
      "('get_fit_now_member',)\n",
      "('get_fit_now_check_in',)\n",
      "('income',)\n",
      "('solution',)\n"
     ]
    }
   ],
   "source": [
    "cursor.execute(\"SELECT name FROM sqlite_master WHERE type='table';\")\n",
    "myresult = cursor.fetchall()\n",
    "for x in myresult:\n",
    "    print(x)"
   ]
  },
  {
   "cell_type": "code",
   "execution_count": 89,
   "id": "3bda400a",
   "metadata": {
    "scrolled": false
   },
   "outputs": [
    {
     "name": "stdout",
     "output_type": "stream",
     "text": [
      "[('CREATE TABLE person (\\n        id integer PRIMARY KEY,\\n        name text,\\n        license_id integer,\\n        address_number integer,\\n        address_street_name text,\\n        ssn integer,\\n        FOREIGN KEY (license_id) REFERENCES drivers_license(id)\\n    )',)]\n"
     ]
    }
   ],
   "source": [
    "cursor.execute(\"SELECT sql FROM sqlite_schema WHERE name = 'person';\")\n",
    "print(cursor.fetchall())"
   ]
  },
  {
   "cell_type": "markdown",
   "id": "b58a3ae7",
   "metadata": {},
   "source": [
    "# Primer sospechoso"
   ]
  },
  {
   "cell_type": "code",
   "execution_count": 102,
   "id": "33c8f8cb",
   "metadata": {
    "scrolled": true
   },
   "outputs": [
    {
     "name": "stdout",
     "output_type": "stream",
     "text": [
      "(67318, 423327, 'Jeremy Bowers', '0H42W2')\n",
      "\n",
      "\n"
     ]
    }
   ],
   "source": [
    "cursor.execute(\"SELECT person.id,  drivers_license.id, person.name, drivers_license.plate_number FROM person join drivers_license on (person.license_id = drivers_license.id)where (person.id = 28819 or person.id = 67318) and drivers_license.plate_number like '%42W%';\")\n",
    "myresult = cursor.fetchall()\n",
    "for x in myresult:\n",
    "    print(x)\n",
    "    print(\"\\n\")"
   ]
  },
  {
   "cell_type": "markdown",
   "id": "f366fc9d",
   "metadata": {},
   "source": [
    "# Buscar pista de: fecha del gym 20180109 enero 9"
   ]
  },
  {
   "cell_type": "code",
   "execution_count": 103,
   "id": "bd46aba8",
   "metadata": {
    "scrolled": true
   },
   "outputs": [
    {
     "name": "stdout",
     "output_type": "stream",
     "text": [
      "('crime_scene_report',)\n",
      "('drivers_license',)\n",
      "('person',)\n",
      "('facebook_event_checkin',)\n",
      "('interview',)\n",
      "('get_fit_now_member',)\n",
      "('get_fit_now_check_in',)\n",
      "('income',)\n",
      "('solution',)\n"
     ]
    }
   ],
   "source": [
    "cursor.execute(\"SELECT name FROM sqlite_master WHERE type='table';\")\n",
    "myresult = cursor.fetchall()\n",
    "for x in myresult:\n",
    "    print(x)"
   ]
  },
  {
   "cell_type": "code",
   "execution_count": 105,
   "id": "777c5968",
   "metadata": {},
   "outputs": [
    {
     "name": "stdout",
     "output_type": "stream",
     "text": [
      "[('CREATE TABLE get_fit_now_check_in (\\n        membership_id text,\\n        check_in_date integer,\\n        check_in_time integer,\\n        check_out_time integer,\\n        FOREIGN KEY (membership_id) REFERENCES get_fit_now_member(id)\\n    )',)]\n"
     ]
    }
   ],
   "source": [
    "cursor.execute(\"SELECT sql FROM sqlite_schema WHERE name = 'get_fit_now_check_in';\")\n",
    "print(cursor.fetchall())"
   ]
  },
  {
   "cell_type": "code",
   "execution_count": 107,
   "id": "a0344640",
   "metadata": {},
   "outputs": [
    {
     "name": "stdout",
     "output_type": "stream",
     "text": [
      "('X0643', 20180109, 957, 1164)\n",
      "\n",
      "\n",
      "('UK1F2', 20180109, 344, 518)\n",
      "\n",
      "\n",
      "('XTE42', 20180109, 486, 1124)\n",
      "\n",
      "\n",
      "('1AE2H', 20180109, 461, 944)\n",
      "\n",
      "\n",
      "('6LSTG', 20180109, 399, 515)\n",
      "\n",
      "\n",
      "('7MWHJ', 20180109, 273, 885)\n",
      "\n",
      "\n",
      "('GE5Q8', 20180109, 367, 959)\n",
      "\n",
      "\n",
      "('48Z7A', 20180109, 1600, 1730)\n",
      "\n",
      "\n",
      "('48Z55', 20180109, 1530, 1700)\n",
      "\n",
      "\n",
      "('90081', 20180109, 1600, 1700)\n",
      "\n",
      "\n"
     ]
    }
   ],
   "source": [
    "cursor.execute(\"Select * from get_fit_now_check_in where check_in_date = 20180109\")\n",
    "myresult = cursor.fetchall()\n",
    "for x in myresult:\n",
    "    print(x)\n",
    "    print(\"\\n\")"
   ]
  },
  {
   "cell_type": "code",
   "execution_count": 108,
   "id": "60ce6113",
   "metadata": {},
   "outputs": [
    {
     "name": "stdout",
     "output_type": "stream",
     "text": [
      "('X0643', 15247, 'Shondra Ledlow', 20170521, 'silver', 'X0643', 20180109, 957, 1164)\n",
      "\n",
      "\n",
      "('UK1F2', 28073, 'Zackary Cabotage', 20170818, 'silver', 'UK1F2', 20180109, 344, 518)\n",
      "\n",
      "\n",
      "('XTE42', 55662, 'Sarita Bartosh', 20170524, 'gold', 'XTE42', 20180109, 486, 1124)\n",
      "\n",
      "\n",
      "('1AE2H', 10815, 'Adriane Pelligra', 20170816, 'silver', '1AE2H', 20180109, 461, 944)\n",
      "\n",
      "\n",
      "('6LSTG', 83186, 'Burton Grippe', 20170214, 'gold', '6LSTG', 20180109, 399, 515)\n",
      "\n",
      "\n",
      "('7MWHJ', 31523, 'Blossom Crescenzo', 20180309, 'regular', '7MWHJ', 20180109, 273, 885)\n",
      "\n",
      "\n",
      "('GE5Q8', 92736, 'Carmen Dimick', 20170618, 'gold', 'GE5Q8', 20180109, 367, 959)\n",
      "\n",
      "\n",
      "('48Z7A', 28819, 'Joe Germuska', 20160305, 'gold', '48Z7A', 20180109, 1600, 1730)\n",
      "\n",
      "\n",
      "('48Z55', 67318, 'Jeremy Bowers', 20160101, 'gold', '48Z55', 20180109, 1530, 1700)\n",
      "\n",
      "\n",
      "('90081', 16371, 'Annabel Miller', 20160208, 'gold', '90081', 20180109, 1600, 1700)\n",
      "\n",
      "\n"
     ]
    }
   ],
   "source": [
    "cursor.execute(\"Select * from get_fit_now_member join get_fit_now_check_in on (get_fit_now_member.id = get_fit_now_check_in.membership_id) where check_in_date = 20180109\")\n",
    "myresult = cursor.fetchall()\n",
    "for x in myresult:\n",
    "    print(x)\n",
    "    print(\"\\n\")"
   ]
  },
  {
   "cell_type": "markdown",
   "id": "0294d41a",
   "metadata": {},
   "source": [
    "# Jeremy Bowers coincide con ambos testimonios."
   ]
  },
  {
   "cell_type": "code",
   "execution_count": 109,
   "id": "1057af91",
   "metadata": {
    "scrolled": true
   },
   "outputs": [
    {
     "data": {
      "text/plain": [
       "\"Congrats, you found the murderer! But wait, there's more... If you think you're up for a challenge, try querying the interview transcript of the murderer to find the real villian behind this crime. If you feel especially confident in your SQL skills, try to complete this final step with no more than 2 queries. Use this same INSERT statement with your new suspect to check your answer.\""
      ]
     },
     "execution_count": 109,
     "metadata": {},
     "output_type": "execute_result"
    }
   ],
   "source": [
    "cursor = con.cursor()\n",
    "sql = \"INSERT INTO solution VALUES (1, 'Jeremy Bowers')\"\n",
    "cursor.execute(sql)\n",
    "con.commit()\n",
    "var = pd.read_sql(\"SELECT value FROM solution\", con)\n",
    "var.iloc[0,0]\n"
   ]
  },
  {
   "cell_type": "markdown",
   "id": "b29eb67e",
   "metadata": {},
   "source": [
    "# Jeremy Bowers es el asesino"
   ]
  },
  {
   "cell_type": "markdown",
   "id": "2742ac01",
   "metadata": {},
   "source": [
    "# Ver las interviews de Jeremy Bowers"
   ]
  },
  {
   "cell_type": "code",
   "execution_count": 110,
   "id": "869d4049",
   "metadata": {},
   "outputs": [
    {
     "name": "stdout",
     "output_type": "stream",
     "text": [
      "('crime_scene_report',)\n",
      "('drivers_license',)\n",
      "('person',)\n",
      "('facebook_event_checkin',)\n",
      "('interview',)\n",
      "('get_fit_now_member',)\n",
      "('get_fit_now_check_in',)\n",
      "('income',)\n",
      "('solution',)\n"
     ]
    }
   ],
   "source": [
    "cursor.execute(\"SELECT name FROM sqlite_master WHERE type='table';\")\n",
    "myresult = cursor.fetchall()\n",
    "for x in myresult:\n",
    "    print(x)"
   ]
  },
  {
   "cell_type": "code",
   "execution_count": 112,
   "id": "dc2464fb",
   "metadata": {},
   "outputs": [
    {
     "name": "stdout",
     "output_type": "stream",
     "text": [
      "[('CREATE TABLE interview (\\n        person_id integer,\\n        transcript text,\\n        FOREIGN KEY (person_id) REFERENCES person(id)\\n    )',)]\n"
     ]
    }
   ],
   "source": [
    "cursor.execute(\"SELECT sql FROM sqlite_schema WHERE name = 'interview';\")\n",
    "print(cursor.fetchall())"
   ]
  },
  {
   "cell_type": "code",
   "execution_count": 114,
   "id": "2c77fae6",
   "metadata": {},
   "outputs": [
    {
     "name": "stdout",
     "output_type": "stream",
     "text": [
      "(67318, 'I was hired by a woman with a lot of money. I don\\'t know her name but I know she\\'s around 5\\'5\" (65\") or 5\\'7\" (67\"). She has red hair and she drives a Tesla Model S. I know that she attended the SQL Symphony Concert 3 times in December 2017.\\n')\n",
      "\n",
      "\n"
     ]
    }
   ],
   "source": [
    "cursor.execute(\"Select * from interview where person_id = 67318\")\n",
    "myresult = cursor.fetchall()\n",
    "for x in myresult:\n",
    "    print(x)\n",
    "    print(\"\\n\")"
   ]
  },
  {
   "cell_type": "markdown",
   "id": "0988c3ce",
   "metadata": {},
   "source": [
    "# Buscar a la mujer: 65 o 67, pelo rojo, Tesla Model S"
   ]
  },
  {
   "cell_type": "code",
   "execution_count": 116,
   "id": "f79baf35",
   "metadata": {},
   "outputs": [
    {
     "name": "stdout",
     "output_type": "stream",
     "text": [
      "('crime_scene_report',)\n",
      "('drivers_license',)\n",
      "('person',)\n",
      "('facebook_event_checkin',)\n",
      "('interview',)\n",
      "('get_fit_now_member',)\n",
      "('get_fit_now_check_in',)\n",
      "('income',)\n",
      "('solution',)\n"
     ]
    }
   ],
   "source": [
    "cursor.execute(\"SELECT name FROM sqlite_master WHERE type='table';\")\n",
    "myresult = cursor.fetchall()\n",
    "for x in myresult:\n",
    "    print(x)"
   ]
  },
  {
   "cell_type": "code",
   "execution_count": 118,
   "id": "9b08a63c",
   "metadata": {},
   "outputs": [
    {
     "name": "stdout",
     "output_type": "stream",
     "text": [
      "[('CREATE TABLE drivers_license (\\n        id integer PRIMARY KEY,\\n        age integer,\\n        height integer,\\n        eye_color text,\\n        hair_color text,\\n        gender text,\\n        plate_number text,\\n        car_make text,\\n        car_model text\\n    )',)]\n"
     ]
    }
   ],
   "source": [
    "cursor.execute(\"SELECT sql FROM sqlite_schema WHERE name = 'drivers_license';\")\n",
    "print(cursor.fetchall())"
   ]
  },
  {
   "cell_type": "code",
   "execution_count": 127,
   "id": "01a736d8",
   "metadata": {},
   "outputs": [
    {
     "name": "stdout",
     "output_type": "stream",
     "text": [
      "(918773, 48, 65, 'black', 'red', 'female', '917UU3', 'Tesla', 'Model S')\n",
      "\n",
      "\n"
     ]
    }
   ],
   "source": [
    "cursor.execute(\"Select * from drivers_license where (height = 65 or height = 67) and hair_color = 'red' and gender = 'female' and car_make = 'Tesla' and car_model = 'Model S';\")\n",
    "myresult = cursor.fetchall()\n",
    "for x in myresult:\n",
    "    print(x)\n",
    "    print(\"\\n\")"
   ]
  },
  {
   "cell_type": "markdown",
   "id": "f4a05697",
   "metadata": {},
   "source": [
    "# Licencia encontrada: 918773, buscar persona"
   ]
  },
  {
   "cell_type": "code",
   "execution_count": 128,
   "id": "077494a7",
   "metadata": {},
   "outputs": [
    {
     "name": "stdout",
     "output_type": "stream",
     "text": [
      "('crime_scene_report',)\n",
      "('drivers_license',)\n",
      "('person',)\n",
      "('facebook_event_checkin',)\n",
      "('interview',)\n",
      "('get_fit_now_member',)\n",
      "('get_fit_now_check_in',)\n",
      "('income',)\n",
      "('solution',)\n"
     ]
    }
   ],
   "source": [
    "cursor.execute(\"SELECT name FROM sqlite_master WHERE type='table';\")\n",
    "myresult = cursor.fetchall()\n",
    "for x in myresult:\n",
    "    print(x)"
   ]
  },
  {
   "cell_type": "code",
   "execution_count": 129,
   "id": "ed7ede33",
   "metadata": {},
   "outputs": [
    {
     "name": "stdout",
     "output_type": "stream",
     "text": [
      "[('CREATE TABLE person (\\n        id integer PRIMARY KEY,\\n        name text,\\n        license_id integer,\\n        address_number integer,\\n        address_street_name text,\\n        ssn integer,\\n        FOREIGN KEY (license_id) REFERENCES drivers_license(id)\\n    )',)]\n"
     ]
    }
   ],
   "source": [
    "cursor.execute(\"SELECT sql FROM sqlite_schema WHERE name = 'person';\")\n",
    "print(cursor.fetchall())"
   ]
  },
  {
   "cell_type": "code",
   "execution_count": 130,
   "id": "831ef6e8",
   "metadata": {},
   "outputs": [
    {
     "name": "stdout",
     "output_type": "stream",
     "text": [
      "(78881, 'Red Korb', 918773, 107, 'Camerata Dr', 961388910)\n",
      "\n",
      "\n"
     ]
    }
   ],
   "source": [
    "cursor.execute(\"Select * from person where license_id = 918773\")\n",
    "myresult = cursor.fetchall()\n",
    "for x in myresult:\n",
    "    print(x)\n",
    "    print(\"\\n\")"
   ]
  },
  {
   "cell_type": "markdown",
   "id": "523c1a6e",
   "metadata": {},
   "source": [
    "# Red Korb"
   ]
  },
  {
   "cell_type": "code",
   "execution_count": 131,
   "id": "70407efb",
   "metadata": {},
   "outputs": [
    {
     "data": {
      "text/plain": [
       "\"That's not the right person. Try again!\""
      ]
     },
     "execution_count": 131,
     "metadata": {},
     "output_type": "execute_result"
    }
   ],
   "source": [
    "cursor = con.cursor()\n",
    "sql = \"INSERT INTO solution VALUES (1, 'Red Korb')\"\n",
    "cursor.execute(sql)\n",
    "con.commit()\n",
    "var = pd.read_sql(\"SELECT value FROM solution\", con)\n",
    "var.iloc[0,0]"
   ]
  },
  {
   "cell_type": "markdown",
   "id": "bbf45510",
   "metadata": {},
   "source": [
    "# Ir a pista del evento: SQL Symphony Concert, 3 veces en diciembre 2017"
   ]
  },
  {
   "cell_type": "code",
   "execution_count": 132,
   "id": "a9d31c28",
   "metadata": {
    "scrolled": true
   },
   "outputs": [
    {
     "name": "stdout",
     "output_type": "stream",
     "text": [
      "('crime_scene_report',)\n",
      "('drivers_license',)\n",
      "('person',)\n",
      "('facebook_event_checkin',)\n",
      "('interview',)\n",
      "('get_fit_now_member',)\n",
      "('get_fit_now_check_in',)\n",
      "('income',)\n",
      "('solution',)\n"
     ]
    }
   ],
   "source": [
    "cursor.execute(\"SELECT name FROM sqlite_master WHERE type='table';\")\n",
    "myresult = cursor.fetchall()\n",
    "for x in myresult:\n",
    "    print(x)"
   ]
  },
  {
   "cell_type": "code",
   "execution_count": 134,
   "id": "3b21e274",
   "metadata": {},
   "outputs": [
    {
     "name": "stdout",
     "output_type": "stream",
     "text": [
      "[('CREATE TABLE facebook_event_checkin (\\n        person_id integer,\\n        event_id integer,\\n        event_name text,\\n        date integer,\\n        FOREIGN KEY (person_id) REFERENCES person(id)\\n    )',)]\n"
     ]
    }
   ],
   "source": [
    "cursor.execute(\"SELECT sql FROM sqlite_schema WHERE name = 'facebook_event_checkin';\")\n",
    "print(cursor.fetchall())"
   ]
  },
  {
   "cell_type": "code",
   "execution_count": 139,
   "id": "52119907",
   "metadata": {},
   "outputs": [
    {
     "name": "stdout",
     "output_type": "stream",
     "text": [
      "(24556, 3)\n",
      "\n",
      "\n",
      "(99716, 3)\n",
      "\n",
      "\n"
     ]
    }
   ],
   "source": [
    "cursor.execute(\"Select person_id, count(*) from facebook_event_checkin where event_name = 'SQL Symphony Concert' and date between 20171201 and 20171231 group by person_id HAVING count(*) = 3\")\n",
    "myresult = cursor.fetchall()\n",
    "for x in myresult:\n",
    "    print(x)\n",
    "    print(\"\\n\")"
   ]
  },
  {
   "cell_type": "code",
   "execution_count": 140,
   "id": "b1cb52e4",
   "metadata": {},
   "outputs": [
    {
     "name": "stdout",
     "output_type": "stream",
     "text": [
      "(24556, 'Bryan Pardo', 101191, 703, 'Machine Ln', 816663882)\n",
      "\n",
      "\n",
      "(99716, 'Miranda Priestly', 202298, 1883, 'Golden Ave', 987756388)\n",
      "\n",
      "\n"
     ]
    }
   ],
   "source": [
    "cursor.execute(\"Select * from person where id = 24556 or id = 99716\")\n",
    "myresult = cursor.fetchall()\n",
    "for x in myresult:\n",
    "    print(x)\n",
    "    print(\"\\n\")"
   ]
  },
  {
   "cell_type": "markdown",
   "id": "bc653914",
   "metadata": {},
   "source": [
    "# Prueba con las personas que fueron al concierto 3 veces:\n",
    "# Bryan Pardo \n",
    "# Miranda Priestly"
   ]
  },
  {
   "cell_type": "code",
   "execution_count": 142,
   "id": "6b2bd5bb",
   "metadata": {},
   "outputs": [
    {
     "data": {
      "text/plain": [
       "'Congrats, you found the brains behind the murder! Everyone in SQL City hails you as the greatest SQL detective of all time. Time to break out the champagne!'"
      ]
     },
     "execution_count": 142,
     "metadata": {},
     "output_type": "execute_result"
    }
   ],
   "source": [
    "cursor = con.cursor()\n",
    "sql = \"INSERT INTO solution VALUES (1, 'Miranda Priestly')\"\n",
    "cursor.execute(sql)\n",
    "con.commit()\n",
    "var = pd.read_sql(\"SELECT value FROM solution\", con)\n",
    "var.iloc[0,0]"
   ]
  },
  {
   "cell_type": "markdown",
   "id": "78e13736",
   "metadata": {},
   "source": [
    "# Miranda Priestly es la que planeo el asesinato"
   ]
  }
 ],
 "metadata": {
  "kernelspec": {
   "display_name": "Python 3 (ipykernel)",
   "language": "python",
   "name": "python3"
  },
  "language_info": {
   "codemirror_mode": {
    "name": "ipython",
    "version": 3
   },
   "file_extension": ".py",
   "mimetype": "text/x-python",
   "name": "python",
   "nbconvert_exporter": "python",
   "pygments_lexer": "ipython3",
   "version": "3.8.13"
  }
 },
 "nbformat": 4,
 "nbformat_minor": 5
}
